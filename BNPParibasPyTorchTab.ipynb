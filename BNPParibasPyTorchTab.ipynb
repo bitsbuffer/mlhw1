{
  "nbformat": 4,
  "nbformat_minor": 0,
  "metadata": {
    "colab": {
      "name": "BNPParibasPyTorchTab.ipynb",
      "provenance": [],
      "collapsed_sections": []
    },
    "kernelspec": {
      "name": "python3",
      "display_name": "Python 3"
    }
  },
  "cells": [
    {
      "cell_type": "code",
      "metadata": {
        "colab": {
          "base_uri": "https://localhost:8080/"
        },
        "id": "7Z1J2XQ0IAsR",
        "outputId": "9421c23e-095d-432a-e004-69e34cf8f450"
      },
      "source": [
        "from google.colab import drive\n",
        "drive.mount('/content/drive')"
      ],
      "execution_count": 38,
      "outputs": [
        {
          "output_type": "stream",
          "text": [
            "Drive already mounted at /content/drive; to attempt to forcibly remount, call drive.mount(\"/content/drive\", force_remount=True).\n"
          ],
          "name": "stdout"
        }
      ]
    },
    {
      "cell_type": "code",
      "metadata": {
        "id": "Xxs7KMnWIjzg"
      },
      "source": [
        "import pandas as pd\n",
        "import matplotlib.pyplot as plt\n",
        "import seaborn as sns\n",
        "import plotly.express as px\n",
        "from sklearn.model_selection import train_test_split\n",
        "from fastai.tabular import FillMissing, Categorify, Normalize, TabularList, tabular_learner, accuracy, roc_curve, ShowGraph\\\n",
        "\n",
        "from sklearn.impute import SimpleImputer\n",
        "import warnings\n",
        "warnings.filterwarnings('ignore')"
      ],
      "execution_count": 37,
      "outputs": []
    },
    {
      "cell_type": "code",
      "metadata": {
        "id": "ifLATDMkI6pj"
      },
      "source": [
        "df = pd.read_csv(\"/content/drive/MyDrive/ML/BNP/train.csv.zip\", compression=\"zip\")\n",
        "train, test = train_test_split(df, train_size=0.7)"
      ],
      "execution_count": 45,
      "outputs": []
    },
    {
      "cell_type": "code",
      "metadata": {
        "id": "3Y3U6uN0SRmJ"
      },
      "source": [
        "# Function to convert to hexavigesimal base\n",
        "def az_to_int(az, nanVal=None):\n",
        "    if az==az:  #catch NaN\n",
        "        hv = 0\n",
        "        for i in range(len(az)):\n",
        "            hv += (ord(az[i].lower())-ord('a')+1)*26**(len(az)-1-i)\n",
        "        return hv\n",
        "    else:\n",
        "        if nanVal is not None:\n",
        "            return nanVal\n",
        "        else:\n",
        "            return az"
      ],
      "execution_count": 40,
      "outputs": []
    },
    {
      "cell_type": "code",
      "metadata": {
        "id": "fTSTTDaGSU0L"
      },
      "source": [
        "def clean_data(df, cat_cols):\n",
        "    df.v22 = df.v22.apply(az_to_int)\n",
        "    df.drop(columns='ID', inplace=True)\n",
        "    for cat_col in cat_cols:\n",
        "        df[cat_col].fillna(\"__MISS__\", inplace=True)\n",
        "    return df"
      ],
      "execution_count": 41,
      "outputs": []
    },
    {
      "cell_type": "code",
      "metadata": {
        "id": "SAtnKlHiZSpm"
      },
      "source": [
        "cat_cols = df.select_dtypes(include=['object']).columns.tolist()\n",
        "cat_cols.remove('v22')\n",
        "train = clean_data(train, cat_cols)\n",
        "test = clean_data(test, cat_cols)"
      ],
      "execution_count": 46,
      "outputs": []
    },
    {
      "cell_type": "code",
      "metadata": {
        "id": "1JuLvy3xgKrZ"
      },
      "source": [
        "procs = [FillMissing, Categorify, Normalize]\n",
        "test_data = TabularList.from_df(test, cat_names=cat_cols, cont_names=cont_cols)\n",
        "train_data = (TabularList.from_df(train, \n",
        "                                path='.', \n",
        "                                cat_names=cat_cols, \n",
        "                                cont_names=cont_cols, \n",
        "                                procs=procs)\n",
        "                        .split_by_rand_pct(valid_pct=0.2, seed=1234)\n",
        "                        .label_from_df(cols = 'target')\n",
        "                        .databunch())"
      ],
      "execution_count": 50,
      "outputs": []
    },
    {
      "cell_type": "code",
      "metadata": {
        "colab": {
          "base_uri": "https://localhost:8080/",
          "height": 917
        },
        "id": "YGiXMFrvmGtg",
        "outputId": "4e89c5db-f8db-40c9-b812-3141346068f8"
      },
      "source": [
        "%%time\n",
        "learn = tabular_learner(train_data, layers=[1000, 200, 15], metrics=accuracy, callback_fns=ShowGraph)\n",
        "learn.fit_one_cycle(10)"
      ],
      "execution_count": 53,
      "outputs": [
        {
          "output_type": "display_data",
          "data": {
            "text/html": [
              "<table border=\"1\" class=\"dataframe\">\n",
              "  <thead>\n",
              "    <tr style=\"text-align: left;\">\n",
              "      <th>epoch</th>\n",
              "      <th>train_loss</th>\n",
              "      <th>valid_loss</th>\n",
              "      <th>accuracy</th>\n",
              "      <th>time</th>\n",
              "    </tr>\n",
              "  </thead>\n",
              "  <tbody>\n",
              "    <tr>\n",
              "      <td>0</td>\n",
              "      <td>0.526240</td>\n",
              "      <td>0.513983</td>\n",
              "      <td>0.768058</td>\n",
              "      <td>00:41</td>\n",
              "    </tr>\n",
              "    <tr>\n",
              "      <td>1</td>\n",
              "      <td>0.485728</td>\n",
              "      <td>0.487518</td>\n",
              "      <td>0.775619</td>\n",
              "      <td>00:39</td>\n",
              "    </tr>\n",
              "    <tr>\n",
              "      <td>2</td>\n",
              "      <td>0.484140</td>\n",
              "      <td>0.481600</td>\n",
              "      <td>0.777431</td>\n",
              "      <td>00:41</td>\n",
              "    </tr>\n",
              "    <tr>\n",
              "      <td>3</td>\n",
              "      <td>0.493913</td>\n",
              "      <td>0.479485</td>\n",
              "      <td>0.777868</td>\n",
              "      <td>00:40</td>\n",
              "    </tr>\n",
              "    <tr>\n",
              "      <td>4</td>\n",
              "      <td>0.468517</td>\n",
              "      <td>0.477876</td>\n",
              "      <td>0.778305</td>\n",
              "      <td>00:42</td>\n",
              "    </tr>\n",
              "    <tr>\n",
              "      <td>5</td>\n",
              "      <td>0.480100</td>\n",
              "      <td>0.474904</td>\n",
              "      <td>0.779118</td>\n",
              "      <td>00:40</td>\n",
              "    </tr>\n",
              "    <tr>\n",
              "      <td>6</td>\n",
              "      <td>0.463773</td>\n",
              "      <td>0.473631</td>\n",
              "      <td>0.781180</td>\n",
              "      <td>00:39</td>\n",
              "    </tr>\n",
              "    <tr>\n",
              "      <td>7</td>\n",
              "      <td>0.475373</td>\n",
              "      <td>0.468412</td>\n",
              "      <td>0.783679</td>\n",
              "      <td>00:38</td>\n",
              "    </tr>\n",
              "    <tr>\n",
              "      <td>8</td>\n",
              "      <td>0.464367</td>\n",
              "      <td>0.472835</td>\n",
              "      <td>0.780930</td>\n",
              "      <td>00:39</td>\n",
              "    </tr>\n",
              "    <tr>\n",
              "      <td>9</td>\n",
              "      <td>0.469767</td>\n",
              "      <td>0.475030</td>\n",
              "      <td>0.782679</td>\n",
              "      <td>00:39</td>\n",
              "    </tr>\n",
              "    <tr>\n",
              "      <td>10</td>\n",
              "      <td>0.452343</td>\n",
              "      <td>0.481638</td>\n",
              "      <td>0.780867</td>\n",
              "      <td>00:39</td>\n",
              "    </tr>\n",
              "    <tr>\n",
              "      <td>11</td>\n",
              "      <td>0.450858</td>\n",
              "      <td>0.481733</td>\n",
              "      <td>0.778680</td>\n",
              "      <td>00:40</td>\n",
              "    </tr>\n",
              "    <tr>\n",
              "      <td>12</td>\n",
              "      <td>0.434464</td>\n",
              "      <td>0.510299</td>\n",
              "      <td>0.775681</td>\n",
              "      <td>00:40</td>\n",
              "    </tr>\n",
              "    <tr>\n",
              "      <td>13</td>\n",
              "      <td>0.432039</td>\n",
              "      <td>0.494805</td>\n",
              "      <td>0.777368</td>\n",
              "      <td>00:38</td>\n",
              "    </tr>\n",
              "    <tr>\n",
              "      <td>14</td>\n",
              "      <td>0.424563</td>\n",
              "      <td>0.513164</td>\n",
              "      <td>0.768995</td>\n",
              "      <td>00:39</td>\n",
              "    </tr>\n",
              "    <tr>\n",
              "      <td>15</td>\n",
              "      <td>0.423538</td>\n",
              "      <td>0.582172</td>\n",
              "      <td>0.767558</td>\n",
              "      <td>00:39</td>\n",
              "    </tr>\n",
              "    <tr>\n",
              "      <td>16</td>\n",
              "      <td>0.397886</td>\n",
              "      <td>0.545702</td>\n",
              "      <td>0.763059</td>\n",
              "      <td>00:40</td>\n",
              "    </tr>\n",
              "    <tr>\n",
              "      <td>17</td>\n",
              "      <td>0.379352</td>\n",
              "      <td>0.588032</td>\n",
              "      <td>0.761560</td>\n",
              "      <td>00:39</td>\n",
              "    </tr>\n",
              "    <tr>\n",
              "      <td>18</td>\n",
              "      <td>0.380396</td>\n",
              "      <td>0.582833</td>\n",
              "      <td>0.763996</td>\n",
              "      <td>00:39</td>\n",
              "    </tr>\n",
              "    <tr>\n",
              "      <td>19</td>\n",
              "      <td>0.372818</td>\n",
              "      <td>0.584712</td>\n",
              "      <td>0.759435</td>\n",
              "      <td>00:39</td>\n",
              "    </tr>\n",
              "  </tbody>\n",
              "</table>"
            ],
            "text/plain": [
              "<IPython.core.display.HTML object>"
            ]
          },
          "metadata": {
            "tags": []
          }
        },
        {
          "output_type": "display_data",
          "data": {
            "image/png": "[encoded data removed]",
            "text/plain": [
              "<Figure size 432x288 with 1 Axes>"
            ]
          },
          "metadata": {
            "tags": []
          }
        }
      ]
    },
    {
      "cell_type": "code",
      "metadata": {
        "id": "BrRM7l8Hs7Wt",
        "colab": {
          "base_uri": "https://localhost:8080/"
        },
        "outputId": "042f9f37-5941-4e70-e12e-00357476a11c"
      },
      "source": [
        ""
      ],
      "execution_count": null,
      "outputs": [
        {
          "output_type": "execute_result",
          "data": {
            "text/plain": [
              "64"
            ]
          },
          "metadata": {
            "tags": []
          },
          "execution_count": 19
        }
      ]
    }
  ]
}