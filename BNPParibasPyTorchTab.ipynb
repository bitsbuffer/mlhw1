{
  "nbformat": 4,
  "nbformat_minor": 0,
  "metadata": {
    "colab": {
      "name": "BNPParibasPyTorchTab.ipynb",
      "provenance": [],
      "collapsed_sections": []
    },
    "kernelspec": {
      "display_name": "Python 3",
      "name": "python3"
    }
  },
  "cells": [
    {
      "cell_type": "code",
      "metadata": {
        "id": "Xxs7KMnWIjzg"
      },
      "source": [
        "import pandas as pd\n",
        "import matplotlib.pyplot as plt\n",
        "import seaborn as sns\n",
        "import plotly.express as px\n",
        "from sklearn.model_selection import train_test_split\n",
        "from fastai.tabular import FillMissing, Categorify, Normalize, TabularList, tabular_learner, accuracy, roc_curve, ShowGraph, DatasetType\n",
        "from sklearn.metrics import make_scorer, roc_curve, f1_score, roc_auc_score, accuracy_score, classification_report, confusion_matrix, balanced_accuracy_score\n",
        "from sklearn.metrics import ConfusionMatrixDisplay, RocCurveDisplay, PrecisionRecallDisplay, precision_recall_curve\n",
        "\n",
        "from sklearn.impute import SimpleImputer\n",
        "import warnings\n",
        "warnings.filterwarnings('ignore')"
      ],
      "execution_count": 1,
      "outputs": []
    },
    {
      "cell_type": "code",
      "metadata": {
        "id": "ifLATDMkI6pj"
      },
      "source": [
        "df = pd.read_csv(\"https://github.com/bitsbuffer/mlhw1/raw/master/dataset/train.csv.zip\", compression=\"zip\")\n",
        "train, test = train_test_split(df, train_size=0.7)"
      ],
      "execution_count": 3,
      "outputs": []
    },
    {
      "cell_type": "code",
      "metadata": {
        "id": "3Y3U6uN0SRmJ"
      },
      "source": [
        "# Function to convert to hexavigesimal base\n",
        "def az_to_int(az, nanVal=None):\n",
        "    if az==az:  #catch NaN\n",
        "        hv = 0\n",
        "        for i in range(len(az)):\n",
        "            hv += (ord(az[i].lower())-ord('a')+1)*26**(len(az)-1-i)\n",
        "        return hv\n",
        "    else:\n",
        "        if nanVal is not None:\n",
        "            return nanVal\n",
        "        else:\n",
        "            return az"
      ],
      "execution_count": 10,
      "outputs": []
    },
    {
      "cell_type": "code",
      "metadata": {
        "id": "fTSTTDaGSU0L"
      },
      "source": [
        "def clean_data(df, cat_cols):\n",
        "    df.v22 = df.v22.apply(az_to_int)\n",
        "    df.drop(columns='ID', inplace=True)\n",
        "    for cat_col in cat_cols:\n",
        "        df[cat_col].fillna(\"__MISS__\", inplace=True)\n",
        "    return df"
      ],
      "execution_count": 11,
      "outputs": []
    },
    {
      "cell_type": "code",
      "metadata": {
        "id": "SAtnKlHiZSpm"
      },
      "source": [
        "cat_cols = train.select_dtypes(include=['object']).columns.tolist()\n",
        "cat_cols.remove('v22')\n",
        "train = clean_data(train, cat_cols)\n",
        "test = clean_data(test, cat_cols)\n",
        "cont_cols = train.select_dtypes(include=['float', 'int']).columns.tolist()"
      ],
      "execution_count": 12,
      "outputs": []
    },
    {
      "cell_type": "code",
      "metadata": {
        "id": "1JuLvy3xgKrZ"
      },
      "source": [
        "procs = [FillMissing, Categorify, Normalize]\n",
        "test_data = TabularList.from_df(test, path=\".\", cat_names=cat_cols, cont_names=cont_cols, procs=procs)\n",
        "train_data = (TabularList.from_df(train, \n",
        "                                path='.', \n",
        "                                cat_names=cat_cols, \n",
        "                                cont_names=cont_cols, \n",
        "                                procs=procs)\n",
        "                        .split_by_rand_pct(valid_pct=0.2, seed=1234)\n",
        "                        .label_from_df(cols = 'target')\n",
        "                        .add_test(test_data)\n",
        "                        .databunch())"
      ],
      "execution_count": 13,
      "outputs": []
    },
    {
      "cell_type": "code",
      "metadata": {
        "colab": {
          "base_uri": "https://localhost:8080/",
          "height": 641
        },
        "id": "YGiXMFrvmGtg",
        "outputId": "a0859ed1-b070-4d19-b57d-882c674207b3"
      },
      "source": [
        "%%time\n",
        "learn = tabular_learner(train_data, layers=[64, 32, 16], metrics=accuracy, callback_fns=ShowGraph)\n",
        "learn.fit_one_cycle(10)"
      ],
      "execution_count": 31,
      "outputs": [
        {
          "output_type": "display_data",
          "data": {
            "text/html": [
              "<table border=\"1\" class=\"dataframe\">\n",
              "  <thead>\n",
              "    <tr style=\"text-align: left;\">\n",
              "      <th>epoch</th>\n",
              "      <th>train_loss</th>\n",
              "      <th>valid_loss</th>\n",
              "      <th>accuracy</th>\n",
              "      <th>time</th>\n",
              "    </tr>\n",
              "  </thead>\n",
              "  <tbody>\n",
              "    <tr>\n",
              "      <td>0</td>\n",
              "      <td>0.002816</td>\n",
              "      <td>0.001529</td>\n",
              "      <td>0.999938</td>\n",
              "      <td>00:40</td>\n",
              "    </tr>\n",
              "    <tr>\n",
              "      <td>1</td>\n",
              "      <td>0.001434</td>\n",
              "      <td>0.000158</td>\n",
              "      <td>1.000000</td>\n",
              "      <td>00:41</td>\n",
              "    </tr>\n",
              "    <tr>\n",
              "      <td>2</td>\n",
              "      <td>0.000352</td>\n",
              "      <td>0.000038</td>\n",
              "      <td>1.000000</td>\n",
              "      <td>00:42</td>\n",
              "    </tr>\n",
              "    <tr>\n",
              "      <td>3</td>\n",
              "      <td>0.000001</td>\n",
              "      <td>0.000000</td>\n",
              "      <td>1.000000</td>\n",
              "      <td>00:38</td>\n",
              "    </tr>\n",
              "    <tr>\n",
              "      <td>4</td>\n",
              "      <td>0.000002</td>\n",
              "      <td>0.000000</td>\n",
              "      <td>1.000000</td>\n",
              "      <td>00:40</td>\n",
              "    </tr>\n",
              "    <tr>\n",
              "      <td>5</td>\n",
              "      <td>0.000583</td>\n",
              "      <td>0.000012</td>\n",
              "      <td>1.000000</td>\n",
              "      <td>00:40</td>\n",
              "    </tr>\n",
              "    <tr>\n",
              "      <td>6</td>\n",
              "      <td>0.001882</td>\n",
              "      <td>0.000217</td>\n",
              "      <td>0.999938</td>\n",
              "      <td>00:40</td>\n",
              "    </tr>\n",
              "    <tr>\n",
              "      <td>7</td>\n",
              "      <td>0.000000</td>\n",
              "      <td>0.000000</td>\n",
              "      <td>1.000000</td>\n",
              "      <td>00:39</td>\n",
              "    </tr>\n",
              "    <tr>\n",
              "      <td>8</td>\n",
              "      <td>0.000000</td>\n",
              "      <td>0.000000</td>\n",
              "      <td>1.000000</td>\n",
              "      <td>00:40</td>\n",
              "    </tr>\n",
              "    <tr>\n",
              "      <td>9</td>\n",
              "      <td>0.000000</td>\n",
              "      <td>0.000000</td>\n",
              "      <td>1.000000</td>\n",
              "      <td>00:38</td>\n",
              "    </tr>\n",
              "  </tbody>\n",
              "</table>"
            ],
            "text/plain": [
              "<IPython.core.display.HTML object>"
            ]
          },
          "metadata": {
            "tags": []
          }
        },
        {
          "output_type": "display_data",
          "data": {
            "image/png": "[encoded data removed]",
            "text/plain": [
              "<Figure size 432x288 with 1 Axes>"
            ]
          },
          "metadata": {
            "tags": []
          }
        },
        {
          "output_type": "stream",
          "text": [
            "CPU times: user 6min 29s, sys: 13.2 s, total: 6min 42s\n",
            "Wall time: 6min 44s\n"
          ],
          "name": "stdout"
        }
      ]
    },
    {
      "cell_type": "code",
      "metadata": {
        "colab": {
          "base_uri": "https://localhost:8080/",
          "height": 279
        },
        "id": "BrRM7l8Hs7Wt",
        "outputId": "60f14eff-97c7-4788-fc20-77d58ab63ceb"
      },
      "source": [
        "learn.recorder.plot_losses()"
      ],
      "execution_count": 15,
      "outputs": [
        {
          "output_type": "display_data",
          "data": {
            "image/png": "[encoded data removed]",
            "text/plain": [
              "<Figure size 432x288 with 1 Axes>"
            ]
          },
          "metadata": {
            "tags": [],
            "needs_background": "light"
          }
        }
      ]
    },
    {
      "cell_type": "code",
      "metadata": {
        "colab": {
          "base_uri": "https://localhost:8080/",
          "height": 290
        },
        "id": "LKSILZStAVqE",
        "outputId": "69c14472-b048-4dc4-e55a-6c87058d725a"
      },
      "source": [
        "learn.recorder.plot_metrics()"
      ],
      "execution_count": 16,
      "outputs": [
        {
          "output_type": "display_data",
          "data": {
            "image/png": "[encoded data removed]",
            "text/plain": [
              "<Figure size 432x288 with 1 Axes>"
            ]
          },
          "metadata": {
            "tags": [],
            "needs_background": "light"
          }
        }
      ]
    },
    {
      "cell_type": "code",
      "metadata": {
        "colab": {
          "base_uri": "https://localhost:8080/",
          "height": 17
        },
        "id": "ww0Wam7UAd0-",
        "outputId": "c32ba779-36bf-488c-98b2-6eb69cc815a0"
      },
      "source": [
        "yhat_test_tensor = learn.get_preds(ds_type=DatasetType.Test)[1]\n",
        "yhat_test = yhat_test_tensor.numpy()"
      ],
      "execution_count": 32,
      "outputs": [
        {
          "output_type": "display_data",
          "data": {
            "text/html": [
              ""
            ],
            "text/plain": [
              "<IPython.core.display.HTML object>"
            ]
          },
          "metadata": {
            "tags": []
          }
        }
      ]
    },
    {
      "cell_type": "code",
      "metadata": {
        "id": "6AyIQApKG_6j"
      },
      "source": [
        "def print_classification_report(y_test, yhat_test):\n",
        "    cm = confusion_matrix(y_test, yhat_test)\n",
        "    print(\"********************************************************\")\n",
        "    print(\"Accuracy on Test data \", accuracy_score(y_test, yhat_test))\n",
        "    print(\"********************************************************\")\n",
        "    print(\"F1 on Test data \", f1_score(y_test, yhat_test))\n",
        "    print(\"********************************************************\")\n",
        "    print(\"AUC ROC on Test data \", roc_auc_score(y_test, yhat_test))\n",
        "    print(\"********************************************************\")\n",
        "    print(classification_report(y_test, yhat_test))\n",
        "    print(\"********************************************************\")\n",
        "    fig, (ax1, ax2) = plt.subplots(1, 2, figsize=(18, 6))\n",
        "    cm = confusion_matrix(y_test, yhat_test)\n",
        "    print(cm)"
      ],
      "execution_count": 33,
      "outputs": []
    },
    {
      "cell_type": "code",
      "metadata": {
        "id": "4V87N8C4HkA-",
        "colab": {
          "base_uri": "https://localhost:8080/",
          "height": 701
        },
        "outputId": "84bb5ea3-b75f-4003-fc09-9b0ce143f720"
      },
      "source": [
        "print_classification_report(y_test, yhat_test) "
      ],
      "execution_count": 30,
      "outputs": [
        {
          "output_type": "stream",
          "text": [
            "********************************************************\n",
            "Accuracy on Test data  0.2410123334402426\n",
            "********************************************************\n",
            "F1 on Test data  0.0\n",
            "********************************************************\n",
            "AUC ROC on Test data  0.5\n",
            "********************************************************\n",
            "              precision    recall  f1-score   support\n",
            "\n",
            "           0       0.24      1.00      0.39      8266\n",
            "           1       0.00      0.00      0.00     26031\n",
            "\n",
            "    accuracy                           0.24     34297\n",
            "   macro avg       0.12      0.50      0.19     34297\n",
            "weighted avg       0.06      0.24      0.09     34297\n",
            "\n",
            "********************************************************\n",
            "[[ 8266     0]\n",
            " [26031     0]]\n"
          ],
          "name": "stdout"
        },
        {
          "output_type": "display_data",
          "data": {
            "image/png": "[encoded data removed]",
            "text/plain": [
              "<Figure size 1296x432 with 2 Axes>"
            ]
          },
          "metadata": {
            "tags": [],
            "needs_background": "light"
          }
        }
      ]
    }
  ]
}