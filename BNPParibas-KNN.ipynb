{
 "cells": [
  {
   "cell_type": "code",
   "execution_count": null,
   "metadata": {
    "colab": {
     "base_uri": "https://localhost:8080/"
    },
    "id": "7Z1J2XQ0IAsR",
    "outputId": "21aa56b5-4214-4a18-946b-186923527e16"
   },
   "outputs": [],
   "source": [
    "# from google.colab import drive\n",
    "# drive.mount('/content/drive')"
   ]
  },
  {
   "cell_type": "code",
   "execution_count": null,
   "metadata": {
    "colab": {
     "base_uri": "https://localhost:8080/"
    },
    "id": "fbcakAn_nxnC",
    "outputId": "20359f64-ae16-4387-eb6e-13a4ec4b5fe3"
   },
   "outputs": [],
   "source": [
    "# !pip install category_encoders"
   ]
  },
  {
   "cell_type": "code",
   "execution_count": 4,
   "metadata": {
    "colab": {
     "base_uri": "https://localhost:8080/"
    },
    "id": "Xxs7KMnWIjzg",
    "outputId": "4f0e256b-4c30-459a-f2c3-30695246d489"
   },
   "outputs": [],
   "source": [
    "import pandas as pd\n",
    "import matplotlib.pyplot as plt\n",
    "import seaborn as sns\n",
    "from plotly.subplots import make_subplots\n",
    "import plotly.express as px\n",
    "import plotly.graph_objects as go\n",
    "import category_encoders as ce\n",
    "\n",
    "from sklearn.impute import SimpleImputer, KNNImputer\n",
    "from sklearn.model_selection import train_test_split, KFold, GridSearchCV\n",
    "from sklearn.preprocessing import StandardScaler\n",
    "\n",
    "from sklearn.neighbors import KNeighborsClassifier\n",
    "\n",
    "from sklearn.metrics import make_scorer, f1_score, roc_auc_score, accuracy_score, classification_report, confusion_matrix, balanced_accuracy_score\n",
    "import warnings\n",
    "warnings.filterwarnings('ignore')"
   ]
  },
  {
   "cell_type": "code",
   "execution_count": null,
   "metadata": {},
   "outputs": [],
   "source": [
    "# df = pd.read_csv(\"/content/drive/MyDrive/ML/BNP/train.csv.zip\", compression=\"zip\")\n",
    "# train, test = train_test_split(df, train_size=0.7)"
   ]
  },
  {
   "cell_type": "code",
   "execution_count": null,
   "metadata": {
    "colab": {
     "base_uri": "https://localhost:8080/",
     "height": 304
    },
    "id": "ifLATDMkI6pj",
    "outputId": "91746c3b-2ce2-44af-b4a4-4a83d2cc9cdd"
   },
   "outputs": [],
   "source": [
    "df = pd.read_csv(\"./dataset/train.csv.zip\", compression=\"zip\")\n",
    "train, test = train_test_split(df, train_size=0.7)"
   ]
  },
  {
   "cell_type": "code",
   "execution_count": null,
   "metadata": {
    "id": "3Y3U6uN0SRmJ"
   },
   "outputs": [],
   "source": [
    "# Function to convert to hexavigesimal base\n",
    "def az_to_int(az, nanVal=None):\n",
    "    if az==az:  #catch NaN\n",
    "        hv = 0\n",
    "        for i in range(len(az)):\n",
    "            hv += (ord(az[i].lower())-ord('a')+1)*26**(len(az)-1-i)\n",
    "        return hv\n",
    "    else:\n",
    "        if nanVal is not None:\n",
    "            return nanVal\n",
    "        else:\n",
    "            return az"
   ]
  },
  {
   "cell_type": "code",
   "execution_count": null,
   "metadata": {},
   "outputs": [],
   "source": [
    "def clean_data(df, cat_cols):\n",
    "    df.v22 = df.v22.apply(az_to_int)\n",
    "    df.drop(columns='ID', inplace=True)\n",
    "    for cat_col in cat_cols:\n",
    "        df[cat_col].fillna(\"__MISS__\", inplace=True)\n",
    "    return df"
   ]
  },
  {
   "cell_type": "code",
   "execution_count": null,
   "metadata": {
    "id": "fTSTTDaGSU0L"
   },
   "outputs": [],
   "source": [
    "cat_cols = df.select_dtypes(include=['object']).columns.tolist()\n",
    "train = clean_data(train, cat_cols)\n",
    "test = clean_data(test, cat_cols)"
   ]
  },
  {
   "cell_type": "code",
   "execution_count": null,
   "metadata": {
    "id": "tNxilWHQHDnF"
   },
   "outputs": [],
   "source": [
    "def dplot(data, column, target):\n",
    "    a = data[column].fillna(data[column].median())\n",
    "    fig, axes = plt.subplots(figsize=(20, 6), ncols=2, nrows=1)\n",
    "    sns.kdeplot(data=data, x=column, hue=target, ax=axes[0])\n",
    "    sns.kdeplot(a, hue=data[target], ax=axes[1])"
   ]
  },
  {
   "cell_type": "code",
   "execution_count": null,
   "metadata": {
    "id": "wFZFb-8NOsYr"
   },
   "outputs": [],
   "source": [
    "def catplot(data, column, target):\n",
    "    x = pd.crosstab(data[column], data[target])\n",
    "    print(x.apply(lambda x: x/x.sum(), axis='rows'))"
   ]
  },
  {
   "cell_type": "code",
   "execution_count": null,
   "metadata": {},
   "outputs": [],
   "source": [
    "y_train = train.pop('target')\n",
    "y_test = test.pop('target')"
   ]
  },
  {
   "cell_type": "code",
   "execution_count": null,
   "metadata": {
    "colab": {
     "base_uri": "https://localhost:8080/"
    },
    "id": "MfZqfWeCpDqP",
    "outputId": "4ba4cfec-bea7-4c0a-9e69-0856e588fbb3"
   },
   "outputs": [],
   "source": [
    "cat_encoder = ce.TargetEncoder(cols=cat_cols,  smoothing=100)\n",
    "train = cat_encoder.fit_transform(train, y=y_train)\n",
    "test = cat_encoder.transform(test, y=y_test)"
   ]
  },
  {
   "cell_type": "code",
   "execution_count": null,
   "metadata": {
    "id": "zTpRRO-FWQ52"
   },
   "outputs": [],
   "source": [
    "# imputer = KNNImputer(weights=\"distance\", copy=False)\n",
    "# imputer.fit_transform(train)"
   ]
  },
  {
   "cell_type": "code",
   "execution_count": null,
   "metadata": {
    "id": "NBuwVG7LYHno"
   },
   "outputs": [],
   "source": [
    "simple_imputer = SimpleImputer(strategy=\"median\", copy=False)\n",
    "train = simple_imputer.fit_transform(train)\n",
    "test = simple_imputer.transform(test)"
   ]
  },
  {
   "cell_type": "code",
   "execution_count": null,
   "metadata": {},
   "outputs": [],
   "source": [
    "def plot_prob_dist(yhat_prob, y):\n",
    "    plt.figure()\n",
    "    preds = pd.DataFrame({\"yhat_prob_test\": yhat_prob[:,1], \"y_test\": y})\n",
    "    sns.kdeplot(x=preds['yhat_prob_test'], hue=preds['y_test'])\n",
    "    plt.show()\n",
    "    \n",
    "def print_classification_report(clf, test, y_test):\n",
    "    yhat_test = clf.predict(test)\n",
    "    yhat_prob_test = clf.predict_proba(test)\n",
    "    print(\"********************************************************\")\n",
    "    print(\"Accuracy on Test data \", accuracy_score(y_test, yhat_test))\n",
    "    print(\"********************************************************\")\n",
    "    print(\"F1 on Test data \", f1_score(y_test, yhat_test))\n",
    "    print(\"********************************************************\")\n",
    "    print(\"AUC ROC on Test data \", roc_auc_score(y_test, yhat_test))\n",
    "    print(\"********************************************************\")\n",
    "    print(\"Confusion matrix \\n\", confusion_matrix(y_test, yhat_test))\n",
    "    print(\"********************************************************\")\n",
    "    print(classification_report(y_test, yhat_test))\n",
    "    print(\"********************************************************\")\n",
    "    plot_prob_dist(yhat_prob_test, y_test)"
   ]
  },
  {
   "cell_type": "markdown",
   "metadata": {},
   "source": [
    "## KNN "
   ]
  },
  {
   "cell_type": "code",
   "execution_count": null,
   "metadata": {},
   "outputs": [],
   "source": [
    "scaler = StandardScaler()\n",
    "train_nn = scaler.fit_transform(train)"
   ]
  },
  {
   "cell_type": "code",
   "execution_count": null,
   "metadata": {},
   "outputs": [],
   "source": [
    "n_neighbors = [5, 10, 15, 20, 25]\n",
    "params = {\"n_neighbors\": n_neighbors}\n",
    "scoring = {'AUC': make_scorer(roc_auc_score), 'Accuracy': make_scorer(accuracy_score), \"F1 Score\": make_scorer(f1_score)}\n",
    "clf = KNeighborsClassifier(n_jobs=-2)\n",
    "gs = GridSearchCV(clf, cv=5, n_jobs=1, param_grid=params, scoring=scoring, return_train_score=True, refit=\"AUC\")\n",
    "gs.fit(train_nn, y_train)"
   ]
  },
  {
   "cell_type": "code",
   "execution_count": null,
   "metadata": {},
   "outputs": [],
   "source": [
    "fig = make_subplots(rows=1, cols=3, subplot_titles=(\"Accuracy vs Num neighbors\", \"F1 score vs Num neighbors\", \n",
    "                                                    \"AUC ROC vs Num neighbors\"))\n",
    "# accuracy\n",
    "fig.add_trace(go.Scatter(x=n_neighbors, y=gs.cv_results_['mean_train_Accuracy'], mode='lines', name='AUC ROC on Train Data'),\n",
    "             row=1, col=1)\n",
    "fig.add_trace(go.Scatter(x=n_neighbors, y=gs.cv_results_['mean_test_Accuracy'], mode='lines', name='AUC ROC on Validation Data'),\n",
    "             row=1, col=1)\n",
    "# f1 score\n",
    "fig.add_trace(go.Scatter(x=n_neighbors, y=gs.cv_results_['mean_train_F1 Score'], mode='lines', name='f1 Score on Train Data'), \n",
    "             row=1, col=2)\n",
    "fig.add_trace(go.Scatter(x=n_neighbors, y=gs.cv_results_['mean_test_F1 Score'], mode='lines', name='f1 Score on Validation Data'),\n",
    "             row=1, col=2)\n",
    "# auc roc\n",
    "fig.add_trace(go.Scatter(x=n_neighbors, y=gs.cv_results_['mean_train_AUC'], mode='lines', name='AUC ROC on Train Data'), \n",
    "             row=1, col=3)\n",
    "fig.add_trace(go.Scatter(x=n_neighbors, y=gs.cv_results_['mean_test_AUC'], mode='lines', name='AUC ROC on Validation Data'),\n",
    "             row=1, col=3)\n",
    "\n",
    "# Update xaxis properties\n",
    "fig.update_xaxes(title_text=\"Num neighbors\", row=1, col=1, type='category')\n",
    "fig.update_xaxes(title_text=\"Num neighbors\", row=1, col=2, type='category')\n",
    "fig.update_xaxes(title_text=\"Num neighbors\", row=1, col=3, type='category')\n",
    "# Update yaxis properties\n",
    "fig.update_yaxes(title_text=\"Accuracy\", row=1, col=1)\n",
    "fig.update_yaxes(title_text=\"F1 Score\", row=1, col=2)\n",
    "fig.update_yaxes(title_text=\"AUC ROC\",  row=1, col=3)\n",
    "# update layout\n",
    "fig.update_layout(title='Model Performance wrt Num neighbors')\n",
    "fig.show()"
   ]
  },
  {
   "cell_type": "code",
   "execution_count": null,
   "metadata": {},
   "outputs": [],
   "source": [
    "test_nn = scaler.transform(test)\n",
    "print_classification_report(gs.best_estimator_, test_nn, y_test)"
   ]
  }
 ],
 "metadata": {
  "colab": {
   "collapsed_sections": [],
   "name": "BNPParibas.ipynb",
   "provenance": []
  },
  "kernelspec": {
   "display_name": "Python 3",
   "language": "python",
   "name": "python3"
  },
  "language_info": {
   "codemirror_mode": {
    "name": "ipython",
    "version": 3
   },
   "file_extension": ".py",
   "mimetype": "text/x-python",
   "name": "python",
   "nbconvert_exporter": "python",
   "pygments_lexer": "ipython3",
   "version": "3.7.9"
  }
 },
 "nbformat": 4,
 "nbformat_minor": 4
}
